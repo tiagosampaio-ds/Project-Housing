{
 "cells": [
  {
   "cell_type": "code",
   "execution_count": 1,
   "id": "5b107350",
   "metadata": {
    "ExecuteTime": {
     "end_time": "2022-09-18T22:04:25.119521Z",
     "start_time": "2022-09-18T22:04:13.765860Z"
    }
   },
   "outputs": [],
   "source": [
    "import pandas as pd\n",
    "import streamlit as st\n",
    "import joblib"
   ]
  },
  {
   "cell_type": "code",
   "execution_count": 2,
   "id": "8be0594f",
   "metadata": {
    "ExecuteTime": {
     "end_time": "2022-09-18T22:05:16.485631Z",
     "start_time": "2022-09-18T22:05:14.830322Z"
    }
   },
   "outputs": [
    {
     "name": "stderr",
     "output_type": "stream",
     "text": [
      "2022-09-18 19:05:16.453 \n",
      "  \u001b[33m\u001b[1mWarning:\u001b[0m to view this Streamlit app on a browser, run it with the following\n",
      "  command:\n",
      "\n",
      "    streamlit run C:\\Users\\Dell\\Anaconda3\\Anaconda\\envs\\Project Housing 2\\lib\\site-packages\\ipykernel_launcher.py [ARGUMENTS]\n"
     ]
    }
   ],
   "source": [
    "dados = pd.read_csv('data_train.csv')\n",
    "\n",
    "st.title('Machine learning project to predict median house values')\n",
    "\n",
    "st.text('This is a machine learning app to predict the median house value with in a block.\\n'  \n",
    "        'The data that was trained pertains to the houses found in a given California\\n'\n",
    "        'district and some summary stats about them based on the 1990 census data.\\n'\n",
    "        'The location based on the latitude and longitude will appears on the map.\\n' \n",
    "        'Feel free to set the values of the features and make your predictions.')\n",
    "\n",
    "\n",
    "longitude = st.slider('Longitude: A measure of how far west a house is; a higher value is farther west', \n",
    "                      min_value=float(dados['longitude'].min()), \n",
    "                      max_value=float(dados['longitude'].max()), \n",
    "                      value=float(dados['longitude'].mean()))\n",
    "\n",
    "latitude = st.slider('Latitude: A measure of how far north a house is; a higher value is farther north', \n",
    "                     min_value=float(dados['latitude'].min()),\n",
    "                     max_value=float(dados['latitude'].max()), \n",
    "                     value=float(dados['latitude'].mean()))\n",
    "\n",
    "housing_median_age = st.slider('Housing median age: Total number of rooms within a block',\n",
    "                               min_value=int(dados['housing_median_age'].min()),\n",
    "                               max_value=int(dados['housing_median_age'].max()), \n",
    "                               value=int(dados['housing_median_age'].mean()))\n",
    "\n",
    "total_rooms = st.slider('Total rooms: Total number of rooms within a block', \n",
    "                        min_value=int(dados['total_rooms'].min()),\n",
    "                        max_value=int(dados['total_rooms'].max()), \n",
    "                        value=int(dados['total_rooms'].mean()))\n",
    "\n",
    "total_bedrooms = st.slider('Total bedrooms: Total number of bedrooms within a block', \n",
    "                           min_value=int(dados['total_bedrooms'].min()), \n",
    "                           max_value=int(dados['total_bedrooms'].max()), \n",
    "                           value=int(dados['total_bedrooms'].mean()))\n",
    "\n",
    "population = st.slider('Population: Total number of people residing within a block', \n",
    "                       min_value=int(dados['population'].min()), \n",
    "                       max_value=int(dados['population'].max()), \n",
    "                       value=int(dados['population'].mean()))\n",
    "\n",
    "households = st.slider('Households: Total number of households, a group of people residing within a home unit, for a block', \n",
    "                       min_value=int(dados['households'].min()), \n",
    "                       max_value=int(dados['households'].max()), \n",
    "                       value=int(dados['households'].mean()))\n",
    "\n",
    "median_income = st.slider('Median income: Median income for households within a block of houses (measured in tens of thousands of US Dollars)', \n",
    "                          min_value=float(dados['median_income'].min()), \n",
    "                          max_value=float(dados['median_income'].max()), \n",
    "                          value=float(dados['median_income'].mean()), step = 0.0001)\n",
    "\n",
    "ocean_proximity = st.selectbox('Ocean proximity: Location of the house w.r.t ocean', \n",
    "                               ('1H_OCEAN', 'INLAND', 'ISLAND', 'NEAR_BAY', 'NEAR_OCEAN'))\n",
    "\n",
    "rooms_per_household = total_rooms/households\n",
    "\n",
    "bedrooms_per_room = total_bedrooms/total_rooms\n",
    "\n",
    "population_per_household = population/households\n",
    "\n",
    "dictmap = {\n",
    "            'longitude': longitude, \n",
    "            'latitude': latitude\n",
    "}\n",
    "\n",
    "maps = pd.DataFrame(dictmap, index=[0])\n",
    "\n",
    "st.map(maps)\n",
    "                               \n",
    "features = {\n",
    "            'longitude': longitude, \n",
    "            'latitude': latitude,\n",
    "            'housing_median_age': housing_median_age,\n",
    "            'total_rooms': total_rooms,\n",
    "            'total_bedrooms': total_bedrooms,\n",
    "            'population': population,\n",
    "            'households': households,\n",
    "            'median_income': median_income,\n",
    "            'ocean_proximity': ocean_proximity,\n",
    "            'rooms_per_household': rooms_per_household,\n",
    "            'bedrooms_per_room': bedrooms_per_room,\n",
    "            'population_per_household': population_per_household\n",
    "}                               \n",
    "    \n",
    "botao = st.button('Predict median house value')\n",
    "\n",
    "if botao:                         \n",
    "    pipe = joblib.load('pipe.joblib')\n",
    "    features = pd.DataFrame(features, index=[0])\n",
    "    features_prepared = pipe.transform(features) #pd.DataFrame(pipe.transform(features), columns=pipe.get_feature_names_out())\n",
    "    modelo = joblib.load('housing.joblib')\n",
    "    Valor_medio_casa = modelo.predict(features_prepared)\n",
    "    f'The median house value within this block is $ {Valor_medio_casa[0]:.2f}' # como a saida é uma array, "
   ]
  }
 ],
 "metadata": {
  "kernelspec": {
   "display_name": "Python 3 (ipykernel)",
   "language": "python",
   "name": "python3"
  },
  "language_info": {
   "codemirror_mode": {
    "name": "ipython",
    "version": 3
   },
   "file_extension": ".py",
   "mimetype": "text/x-python",
   "name": "python",
   "nbconvert_exporter": "python",
   "pygments_lexer": "ipython3",
   "version": "3.8.13"
  },
  "varInspector": {
   "cols": {
    "lenName": 16,
    "lenType": 16,
    "lenVar": 40
   },
   "kernels_config": {
    "python": {
     "delete_cmd_postfix": "",
     "delete_cmd_prefix": "del ",
     "library": "var_list.py",
     "varRefreshCmd": "print(var_dic_list())"
    },
    "r": {
     "delete_cmd_postfix": ") ",
     "delete_cmd_prefix": "rm(",
     "library": "var_list.r",
     "varRefreshCmd": "cat(var_dic_list()) "
    }
   },
   "types_to_exclude": [
    "module",
    "function",
    "builtin_function_or_method",
    "instance",
    "_Feature"
   ],
   "window_display": false
  }
 },
 "nbformat": 4,
 "nbformat_minor": 5
}
